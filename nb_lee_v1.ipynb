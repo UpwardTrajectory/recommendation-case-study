{
 "cells": [
  {
   "cell_type": "code",
   "execution_count": 3,
   "metadata": {},
   "outputs": [],
   "source": [
    "import pyspark\n",
    "import numpy as np\n",
    "from pyspark.ml.recommendation import ALS, ALSModel\n",
    "from pyspark.sql import functions, types\n",
    "from pyspark.ml.evaluation import RegressionEvaluator"
   ]
  },
  {
   "cell_type": "code",
   "execution_count": 4,
   "metadata": {},
   "outputs": [],
   "source": [
    "spark = (pyspark.sql.SparkSession.builder \n",
    "  .master(\"local[*]\")\n",
    "  .getOrCreate())"
   ]
  },
  {
   "cell_type": "code",
   "execution_count": 5,
   "metadata": {},
   "outputs": [],
   "source": [
    "path_users = 'data/users.dat'\n",
    "users = (spark.read.load(\"data/users.dat\",\n",
    "                         format=\"csv\", sep=\":\", inferSchema=\"true\")\n",
    "                        .drop('_c1', '_c3', '_c5', '_c7'))"
   ]
  },
  {
   "cell_type": "code",
   "execution_count": 6,
   "metadata": {},
   "outputs": [],
   "source": [
    "users = (users.withColumnRenamed(users.schema.names[0], 'userID')\n",
    "                        .withColumnRenamed(users.schema.names[1], 'gender')\n",
    "                        .withColumnRenamed(users.schema.names[2], 'age')\n",
    "                        .withColumnRenamed(users.schema.names[3], 'occupation')\n",
    "                        .withColumnRenamed(users.schema.names[4], 'zip'))"
   ]
  },
  {
   "cell_type": "code",
   "execution_count": 7,
   "metadata": {},
   "outputs": [
    {
     "data": {
      "text/plain": [
       "['userID', 'gender', 'age', 'occupation', 'zip']"
      ]
     },
     "execution_count": 7,
     "metadata": {},
     "output_type": "execute_result"
    }
   ],
   "source": [
    "users.schema.names"
   ]
  },
  {
   "cell_type": "code",
   "execution_count": 8,
   "metadata": {},
   "outputs": [
    {
     "name": "stdout",
     "output_type": "stream",
     "text": [
      "(6040, 5)\n"
     ]
    }
   ],
   "source": [
    "print((users.count(), len(users.columns)))"
   ]
  },
  {
   "cell_type": "code",
   "execution_count": 9,
   "metadata": {},
   "outputs": [
    {
     "name": "stdout",
     "output_type": "stream",
     "text": [
      "+------+------+---+----------+-----+\n",
      "|userID|gender|age|occupation|  zip|\n",
      "+------+------+---+----------+-----+\n",
      "|     1|     F|  1|        10|48067|\n",
      "|     2|     M| 56|        16|70072|\n",
      "|     3|     M| 25|        15|55117|\n",
      "|     4|     M| 45|         7|02460|\n",
      "|     5|     M| 25|        20|55455|\n",
      "+------+------+---+----------+-----+\n",
      "only showing top 5 rows\n",
      "\n"
     ]
    }
   ],
   "source": [
    "users.show(5)"
   ]
  },
  {
   "cell_type": "code",
   "execution_count": 10,
   "metadata": {},
   "outputs": [],
   "source": [
    "# read in the dataset into pyspark DataFrame\n",
    "path_ratings = 'data/ratings.json'\n",
    "ratings = spark.read.json(path_ratings)"
   ]
  },
  {
   "cell_type": "code",
   "execution_count": 11,
   "metadata": {},
   "outputs": [
    {
     "name": "stdout",
     "output_type": "stream",
     "text": [
      "+--------+------+------------+-------+\n",
      "|movie_id|rating|   timestamp|user_id|\n",
      "+--------+------+------------+-------+\n",
      "|     858|     4|9.56678732E8|   6040|\n",
      "|    2384|     4|9.56678754E8|   6040|\n",
      "|     593|     5|9.56678754E8|   6040|\n",
      "|    1961|     4|9.56678777E8|   6040|\n",
      "|    1419|     3|9.56678856E8|   6040|\n",
      "+--------+------+------------+-------+\n",
      "only showing top 5 rows\n",
      "\n"
     ]
    }
   ],
   "source": [
    "ratings.show(5)"
   ]
  },
  {
   "cell_type": "code",
   "execution_count": 12,
   "metadata": {},
   "outputs": [
    {
     "name": "stdout",
     "output_type": "stream",
     "text": [
      "(719949, 4)\n"
     ]
    }
   ],
   "source": [
    "print((ratings.count(), len(ratings.columns)))"
   ]
  },
  {
   "cell_type": "code",
   "execution_count": 13,
   "metadata": {},
   "outputs": [
    {
     "data": {
      "text/plain": [
       "['movie_id', 'rating', 'timestamp', 'user_id']"
      ]
     },
     "execution_count": 13,
     "metadata": {},
     "output_type": "execute_result"
    }
   ],
   "source": [
    "ratings.schema.names"
   ]
  },
  {
   "cell_type": "code",
   "execution_count": 14,
   "metadata": {},
   "outputs": [
    {
     "name": "stdout",
     "output_type": "stream",
     "text": [
      "root\n",
      " |-- movie_id: long (nullable = true)\n",
      " |-- rating: long (nullable = true)\n",
      " |-- timestamp: double (nullable = true)\n",
      " |-- user_id: long (nullable = true)\n",
      "\n"
     ]
    }
   ],
   "source": [
    "ratings.printSchema()"
   ]
  },
  {
   "cell_type": "code",
   "execution_count": 15,
   "metadata": {},
   "outputs": [
    {
     "name": "stdout",
     "output_type": "stream",
     "text": [
      "+--------+------+------------+-------+\n",
      "|movie_id|rating|   timestamp|user_id|\n",
      "+--------+------+------------+-------+\n",
      "|     858|     4|9.56678732E8|   6040|\n",
      "|    2384|     4|9.56678754E8|   6040|\n",
      "|     593|     5|9.56678754E8|   6040|\n",
      "|    1961|     4|9.56678777E8|   6040|\n",
      "|    1419|     3|9.56678856E8|   6040|\n",
      "+--------+------+------------+-------+\n",
      "only showing top 5 rows\n",
      "\n"
     ]
    }
   ],
   "source": [
    "ratings.show(5)"
   ]
  },
  {
   "cell_type": "code",
   "execution_count": 16,
   "metadata": {},
   "outputs": [
    {
     "data": {
      "text/plain": [
       "DataFrame[movie_id: bigint, rating: bigint, timestamp: double, user_id: bigint]"
      ]
     },
     "execution_count": 16,
     "metadata": {},
     "output_type": "execute_result"
    }
   ],
   "source": [
    "ratings.persist()"
   ]
  },
  {
   "cell_type": "markdown",
   "metadata": {},
   "source": [
    "#### inspect requests dataset"
   ]
  },
  {
   "cell_type": "code",
   "execution_count": 17,
   "metadata": {},
   "outputs": [
    {
     "data": {
      "text/plain": [
       "DataFrame[movie_id: bigint, rating: double, timestamp: double, user_id: bigint]"
      ]
     },
     "execution_count": 17,
     "metadata": {},
     "output_type": "execute_result"
    }
   ],
   "source": [
    "requests = spark.read.json('data/requests.json')\n",
    "requests.persist()"
   ]
  },
  {
   "cell_type": "code",
   "execution_count": 18,
   "metadata": {},
   "outputs": [
    {
     "name": "stdout",
     "output_type": "stream",
     "text": [
      "root\n",
      " |-- movie_id: long (nullable = true)\n",
      " |-- rating: double (nullable = true)\n",
      " |-- timestamp: double (nullable = true)\n",
      " |-- user_id: long (nullable = true)\n",
      "\n"
     ]
    }
   ],
   "source": [
    "requests.printSchema()"
   ]
  },
  {
   "cell_type": "code",
   "execution_count": 19,
   "metadata": {},
   "outputs": [
    {
     "name": "stdout",
     "output_type": "stream",
     "text": [
      "+--------+------+------------+-------+\n",
      "|movie_id|rating|   timestamp|user_id|\n",
      "+--------+------+------------+-------+\n",
      "|    2019|   NaN|9.56678777E8|   6040|\n",
      "|     759|   NaN|9.56679248E8|   6040|\n",
      "|    2858|   NaN|9.56679275E8|   6040|\n",
      "|     246|   NaN|9.56679413E8|   6040|\n",
      "|    1617|   NaN|9.56679473E8|   6040|\n",
      "+--------+------+------------+-------+\n",
      "only showing top 5 rows\n",
      "\n"
     ]
    }
   ],
   "source": [
    "requests.show(5)"
   ]
  },
  {
   "cell_type": "code",
   "execution_count": 20,
   "metadata": {},
   "outputs": [
    {
     "name": "stdout",
     "output_type": "stream",
     "text": [
      "(280260, 4)\n"
     ]
    }
   ],
   "source": [
    "print((requests.count(), len(requests.columns)))"
   ]
  },
  {
   "cell_type": "markdown",
   "metadata": {},
   "source": [
    "### transforming timestamp column of ratings"
   ]
  },
  {
   "cell_type": "code",
   "execution_count": 21,
   "metadata": {},
   "outputs": [],
   "source": [
    "# convert format of datetime column 'timestamp' from epoch to standard \n",
    "ratings = (ratings.withColumn('timestamp',\n",
    "                    functions.date_format(ratings.timestamp.cast(dataType=types.TimestampType()),\n",
    "                    \"yyyy-MM-dd HH:mm:ss\")))"
   ]
  },
  {
   "cell_type": "code",
   "execution_count": 22,
   "metadata": {},
   "outputs": [
    {
     "data": {
      "text/plain": [
       "DataFrame[movie_id: bigint, rating: bigint, timestamp: string, user_id: bigint]"
      ]
     },
     "execution_count": 22,
     "metadata": {},
     "output_type": "execute_result"
    }
   ],
   "source": [
    "ratings.persist()"
   ]
  },
  {
   "cell_type": "code",
   "execution_count": 23,
   "metadata": {},
   "outputs": [
    {
     "name": "stdout",
     "output_type": "stream",
     "text": [
      "+--------+------+-------------------+-------+\n",
      "|movie_id|rating|          timestamp|user_id|\n",
      "+--------+------+-------------------+-------+\n",
      "|     858|     4|2000-04-25 09:05:32|   6040|\n",
      "|    2384|     4|2000-04-25 09:05:54|   6040|\n",
      "|     593|     5|2000-04-25 09:05:54|   6040|\n",
      "|    1961|     4|2000-04-25 09:06:17|   6040|\n",
      "|    1419|     3|2000-04-25 09:07:36|   6040|\n",
      "+--------+------+-------------------+-------+\n",
      "only showing top 5 rows\n",
      "\n"
     ]
    }
   ],
   "source": [
    "ratings.show(5)"
   ]
  },
  {
   "cell_type": "code",
   "execution_count": 24,
   "metadata": {},
   "outputs": [],
   "source": [
    "ratings = ratings.sort(ratings.timestamp.asc())"
   ]
  },
  {
   "cell_type": "code",
   "execution_count": 25,
   "metadata": {},
   "outputs": [
    {
     "data": {
      "text/plain": [
       "DataFrame[movie_id: bigint, rating: bigint, timestamp: string, user_id: bigint]"
      ]
     },
     "execution_count": 25,
     "metadata": {},
     "output_type": "execute_result"
    }
   ],
   "source": [
    "ratings.persist()"
   ]
  },
  {
   "cell_type": "code",
   "execution_count": 26,
   "metadata": {},
   "outputs": [
    {
     "name": "stdout",
     "output_type": "stream",
     "text": [
      "+--------+------+-------------------+-------+\n",
      "|movie_id|rating|          timestamp|user_id|\n",
      "+--------+------+-------------------+-------+\n",
      "|     858|     4|2000-04-25 09:05:32|   6040|\n",
      "|    2384|     4|2000-04-25 09:05:54|   6040|\n",
      "|     593|     5|2000-04-25 09:05:54|   6040|\n",
      "|    1961|     4|2000-04-25 09:06:17|   6040|\n",
      "|    1419|     3|2000-04-25 09:07:36|   6040|\n",
      "+--------+------+-------------------+-------+\n",
      "only showing top 5 rows\n",
      "\n"
     ]
    }
   ],
   "source": [
    "ratings.show(5)"
   ]
  },
  {
   "cell_type": "code",
   "execution_count": 27,
   "metadata": {},
   "outputs": [
    {
     "name": "stdout",
     "output_type": "stream",
     "text": [
      "(719949, 5)\n"
     ]
    }
   ],
   "source": [
    "print((ratings.count(), len(users.columns)))"
   ]
  },
  {
   "cell_type": "code",
   "execution_count": 28,
   "metadata": {},
   "outputs": [
    {
     "data": {
      "text/plain": [
       "575959.2000000001"
      ]
     },
     "execution_count": 28,
     "metadata": {},
     "output_type": "execute_result"
    }
   ],
   "source": [
    "719949*.8"
   ]
  },
  {
   "cell_type": "code",
   "execution_count": 29,
   "metadata": {},
   "outputs": [
    {
     "data": {
      "text/plain": [
       "143989.80000000002"
      ]
     },
     "execution_count": 29,
     "metadata": {},
     "output_type": "execute_result"
    }
   ],
   "source": [
    "719949 *.2"
   ]
  },
  {
   "cell_type": "code",
   "execution_count": 30,
   "metadata": {},
   "outputs": [],
   "source": [
    "# Sort by index and get first 4000 rows\n",
    "ratings_train = ratings.sort(ratings.timestamp.asc()).limit(575959)"
   ]
  },
  {
   "cell_type": "code",
   "execution_count": 31,
   "metadata": {},
   "outputs": [
    {
     "data": {
      "text/plain": [
       "DataFrame[movie_id: bigint, rating: bigint, timestamp: string, user_id: bigint]"
      ]
     },
     "execution_count": 31,
     "metadata": {},
     "output_type": "execute_result"
    }
   ],
   "source": [
    "ratings_train.persist()"
   ]
  },
  {
   "cell_type": "code",
   "execution_count": 32,
   "metadata": {},
   "outputs": [
    {
     "name": "stdout",
     "output_type": "stream",
     "text": [
      "+--------+------+-------------------+-------+\n",
      "|movie_id|rating|          timestamp|user_id|\n",
      "+--------+------+-------------------+-------+\n",
      "|     858|     4|2000-04-25 09:05:32|   6040|\n",
      "|    2384|     4|2000-04-25 09:05:54|   6040|\n",
      "|     593|     5|2000-04-25 09:05:54|   6040|\n",
      "|    1961|     4|2000-04-25 09:06:17|   6040|\n",
      "|    1419|     3|2000-04-25 09:07:36|   6040|\n",
      "+--------+------+-------------------+-------+\n",
      "only showing top 5 rows\n",
      "\n"
     ]
    }
   ],
   "source": [
    "ratings_train.show(5)"
   ]
  },
  {
   "cell_type": "code",
   "execution_count": 33,
   "metadata": {},
   "outputs": [
    {
     "name": "stdout",
     "output_type": "stream",
     "text": [
      "(575959, 4)\n"
     ]
    }
   ],
   "source": [
    "print((ratings_train.count(), len(ratings_train.columns)))"
   ]
  },
  {
   "cell_type": "code",
   "execution_count": 34,
   "metadata": {},
   "outputs": [
    {
     "name": "stdout",
     "output_type": "stream",
     "text": [
      "+--------+------+-------------------+-------+\n",
      "|movie_id|rating|          timestamp|user_id|\n",
      "+--------+------+-------------------+-------+\n",
      "|     858|     4|2000-04-25 09:05:32|   6040|\n",
      "|    2384|     4|2000-04-25 09:05:54|   6040|\n",
      "|     593|     5|2000-04-25 09:05:54|   6040|\n",
      "|    1961|     4|2000-04-25 09:06:17|   6040|\n",
      "|    1419|     3|2000-04-25 09:07:36|   6040|\n",
      "|     213|     5|2000-04-25 09:07:36|   6040|\n",
      "|    3111|     5|2000-04-25 09:07:36|   6040|\n",
      "|     573|     4|2000-04-25 09:07:36|   6040|\n",
      "|    3505|     4|2000-04-25 09:07:36|   6040|\n",
      "|    1734|     2|2000-04-25 09:08:01|   6040|\n",
      "+--------+------+-------------------+-------+\n",
      "only showing top 10 rows\n",
      "\n"
     ]
    }
   ],
   "source": [
    "ratings_train.sort(ratings_train.timestamp.asc()).show(10)"
   ]
  },
  {
   "cell_type": "code",
   "execution_count": 35,
   "metadata": {},
   "outputs": [],
   "source": [
    "ratings_test = ratings.subtract(ratings_train)"
   ]
  },
  {
   "cell_type": "code",
   "execution_count": 36,
   "metadata": {},
   "outputs": [
    {
     "data": {
      "text/plain": [
       "DataFrame[movie_id: bigint, rating: bigint, timestamp: string, user_id: bigint]"
      ]
     },
     "execution_count": 36,
     "metadata": {},
     "output_type": "execute_result"
    }
   ],
   "source": [
    "ratings_test.persist()"
   ]
  },
  {
   "cell_type": "code",
   "execution_count": 37,
   "metadata": {},
   "outputs": [
    {
     "name": "stdout",
     "output_type": "stream",
     "text": [
      "(143990, 4)\n"
     ]
    }
   ],
   "source": [
    "print((ratings_test.count(), len(ratings_test.columns)))"
   ]
  },
  {
   "cell_type": "markdown",
   "metadata": {},
   "source": [
    "### model"
   ]
  },
  {
   "cell_type": "code",
   "execution_count": 38,
   "metadata": {},
   "outputs": [],
   "source": [
    "# build recommendation model using ALS on the training data\n",
    "als = ALS(\n",
    "    rank=10,\n",
    "    maxIter=10,\n",
    "    userCol='user_id',\n",
    "    itemCol='movie_id',\n",
    "    ratingCol='rating',\n",
    ")"
   ]
  },
  {
   "cell_type": "code",
   "execution_count": 39,
   "metadata": {},
   "outputs": [],
   "source": [
    "# fit the ALS model on training set\n",
    "\n",
    "als_model = als.fit(ratings_train)"
   ]
  },
  {
   "cell_type": "markdown",
   "metadata": {},
   "source": [
    "### predict on ratings_test with fitted model"
   ]
  },
  {
   "cell_type": "code",
   "execution_count": 40,
   "metadata": {},
   "outputs": [
    {
     "data": {
      "text/plain": [
       "DataFrame[movie_id: bigint, rating: bigint, timestamp: string, user_id: bigint, prediction: float]"
      ]
     },
     "execution_count": 40,
     "metadata": {},
     "output_type": "execute_result"
    }
   ],
   "source": [
    "# generate predictions with your model for the test set by using the transform method on your ALS model\n",
    "preds_test = als_model.transform(ratings_test)\n",
    "preds_test.persist()"
   ]
  },
  {
   "cell_type": "code",
   "execution_count": 41,
   "metadata": {},
   "outputs": [],
   "source": [
    "# evaluate your model and print out the RMSE from your test set"
   ]
  },
  {
   "cell_type": "code",
   "execution_count": 42,
   "metadata": {},
   "outputs": [
    {
     "name": "stdout",
     "output_type": "stream",
     "text": [
      "+--------+------+-------------------+-------+----------+\n",
      "|movie_id|rating|          timestamp|user_id|prediction|\n",
      "+--------+------+-------------------+-------+----------+\n",
      "|    3354|     3|2000-11-20 00:28:20|   1577| 3.2429955|\n",
      "|     377|     4|2000-11-20 00:28:25|   1579| 3.0146024|\n",
      "|    2571|     3|2000-11-20 00:28:25|   1579| 3.7643135|\n",
      "|       6|     3|2000-11-20 00:28:25|   1579|  3.515823|\n",
      "|    2427|     2|2000-11-20 00:28:25|   1579|   3.38514|\n",
      "|    2396|     3|2000-11-20 00:28:32|   1574|  3.962767|\n",
      "|    1270|     4|2000-11-20 00:28:32|   1574| 4.6968465|\n",
      "|    1276|     4|2000-11-20 00:28:32|   1592| 3.9603846|\n",
      "|    1079|     4|2000-11-20 00:28:32|   1574| 3.7616415|\n",
      "|    3685|     2|2000-11-20 00:28:33|   1576| 3.1399944|\n",
      "+--------+------+-------------------+-------+----------+\n",
      "only showing top 10 rows\n",
      "\n"
     ]
    }
   ],
   "source": [
    "preds_test.sort(preds_test.timestamp.asc()).show(10)"
   ]
  },
  {
   "cell_type": "code",
   "execution_count": 43,
   "metadata": {},
   "outputs": [
    {
     "name": "stdout",
     "output_type": "stream",
     "text": [
      "+--------+------+-------------------+-------+----------+\n",
      "|movie_id|rating|          timestamp|user_id|prediction|\n",
      "+--------+------+-------------------+-------+----------+\n",
      "|     148|     5|2000-11-30 05:47:04|    673|       NaN|\n",
      "|     148|     3|2000-11-22 00:19:36|   1242|       NaN|\n",
      "|     148|     2|2000-11-22 10:05:35|   1069|       NaN|\n",
      "|     148|     2|2000-11-22 05:57:01|   1605| 1.9305981|\n",
      "|     148|     2|2000-11-21 14:38:26|   1150|       NaN|\n",
      "|     463|     3|2000-12-01 01:03:09|    660|       NaN|\n",
      "|     463|     2|2000-11-22 10:02:18|   1069|       NaN|\n",
      "|     463|     2|2000-11-22 08:33:30|   1146|       NaN|\n",
      "|     463|     1|2000-11-28 12:05:54|    746|       NaN|\n",
      "|     463|     2|2000-11-26 01:52:43|   1980| 2.3886154|\n",
      "|     471|     5|2000-11-23 02:51:07|   1395|       NaN|\n",
      "|     471|     4|2000-11-20 14:30:07|   1303|       NaN|\n",
      "|     471|     3|2000-11-22 03:09:41|   1199|       NaN|\n",
      "|     471|     3|2000-11-20 08:03:22|   1404|       NaN|\n",
      "|     471|     5|2000-11-20 06:23:56|   1441|       NaN|\n",
      "|     471|     2|2000-11-20 04:52:58|   1496|       NaN|\n",
      "|     471|     3|2000-11-21 11:50:55|   1156|       NaN|\n",
      "|     471|     5|2000-11-29 04:19:21|    731|       NaN|\n",
      "|     471|     4|2000-11-23 04:17:52|   1019|       NaN|\n",
      "|     471|     4|2000-11-21 14:32:35|   1294|       NaN|\n",
      "+--------+------+-------------------+-------+----------+\n",
      "only showing top 20 rows\n",
      "\n"
     ]
    }
   ],
   "source": [
    "preds_test.where(preds_test['prediction'].isNotNull()).show()"
   ]
  },
  {
   "cell_type": "code",
   "execution_count": 44,
   "metadata": {},
   "outputs": [],
   "source": [
    "# Evaluate the model by computing the RMSE on the test data\n",
    "# preds_test = als_model.transform(ratings_test)"
   ]
  },
  {
   "cell_type": "code",
   "execution_count": 45,
   "metadata": {},
   "outputs": [],
   "source": [
    "evaluator = RegressionEvaluator(metricName=\"rmse\", labelCol=\"rating\",\n",
    "                                predictionCol=\"prediction\")"
   ]
  },
  {
   "cell_type": "code",
   "execution_count": 46,
   "metadata": {},
   "outputs": [],
   "source": [
    "rmse = evaluator.evaluate(preds_test)"
   ]
  },
  {
   "cell_type": "code",
   "execution_count": 47,
   "metadata": {},
   "outputs": [
    {
     "data": {
      "text/plain": [
       "nan"
      ]
     },
     "execution_count": 47,
     "metadata": {},
     "output_type": "execute_result"
    }
   ],
   "source": [
    "rmse"
   ]
  },
  {
   "cell_type": "code",
   "execution_count": 48,
   "metadata": {},
   "outputs": [],
   "source": [
    "# inspect user_factors and item_factors"
   ]
  },
  {
   "cell_type": "code",
   "execution_count": 49,
   "metadata": {},
   "outputs": [],
   "source": [
    "user_factors = als_model.userFactors"
   ]
  },
  {
   "cell_type": "code",
   "execution_count": 50,
   "metadata": {},
   "outputs": [
    {
     "name": "stdout",
     "output_type": "stream",
     "text": [
      "+----+--------------------+\n",
      "|  id|            features|\n",
      "+----+--------------------+\n",
      "|1570|[-0.098242715, -1...|\n",
      "|1571|[-0.27003378, -1....|\n",
      "|1572|[-0.42812914, -0....|\n",
      "|1573|[-1.1849321, -1.3...|\n",
      "|1574|[0.011200594, -0....|\n",
      "|1575|[-0.05512247, -0....|\n",
      "|1576|[0.38811678, -1.2...|\n",
      "|1577|[-0.8838546, -0.9...|\n",
      "|1578|[-0.5934041, -1.7...|\n",
      "|1579|[-0.30370015, -1....|\n",
      "+----+--------------------+\n",
      "only showing top 10 rows\n",
      "\n"
     ]
    }
   ],
   "source": [
    "user_factors.sort(user_factors.id.asc()).show(10)"
   ]
  },
  {
   "cell_type": "code",
   "execution_count": 51,
   "metadata": {},
   "outputs": [
    {
     "name": "stdout",
     "output_type": "stream",
     "text": [
      "+----+--------------------+\n",
      "|  id|            features|\n",
      "+----+--------------------+\n",
      "|1570|[-0.098242715, -1...|\n",
      "|1580|[-0.5938925, -0.8...|\n",
      "|1590|[-0.64532673, -1....|\n",
      "|1600|[-0.22160304, -1....|\n",
      "|1610|[-0.83903724, -1....|\n",
      "|1620|[-0.36547416, -1....|\n",
      "|1630|[-0.390614, -0.92...|\n",
      "|1640|[-0.39971396, -1....|\n",
      "|1650|[-0.09299978, -1....|\n",
      "|1660|[-0.15269476, -1....|\n",
      "+----+--------------------+\n",
      "only showing top 10 rows\n",
      "\n"
     ]
    }
   ],
   "source": [
    "user_factors.show(10)"
   ]
  },
  {
   "cell_type": "code",
   "execution_count": 52,
   "metadata": {},
   "outputs": [
    {
     "name": "stdout",
     "output_type": "stream",
     "text": [
      "(4464, 2)\n"
     ]
    }
   ],
   "source": [
    "print((user_factors.count(), len(user_factors.columns)))"
   ]
  },
  {
   "cell_type": "code",
   "execution_count": 53,
   "metadata": {},
   "outputs": [],
   "source": [
    "item_factors = als_model.itemFactors"
   ]
  },
  {
   "cell_type": "code",
   "execution_count": 54,
   "metadata": {},
   "outputs": [
    {
     "name": "stdout",
     "output_type": "stream",
     "text": [
      "+---+--------------------+\n",
      "| id|            features|\n",
      "+---+--------------------+\n",
      "| 10|[-0.54918313, -0....|\n",
      "| 20|[-0.69458765, -0....|\n",
      "| 30|[-0.156775, -0.87...|\n",
      "| 40|[-0.06158027, -0....|\n",
      "| 50|[-0.36162597, -1....|\n",
      "| 60|[-0.16453812, -0....|\n",
      "| 70|[-0.6149566, -0.4...|\n",
      "| 80|[-0.3703191, -0.7...|\n",
      "| 90|[-0.32752094, -0....|\n",
      "|100|[-0.67923605, -0....|\n",
      "+---+--------------------+\n",
      "only showing top 10 rows\n",
      "\n"
     ]
    }
   ],
   "source": [
    "item_factors.show(10)"
   ]
  },
  {
   "cell_type": "code",
   "execution_count": 55,
   "metadata": {},
   "outputs": [
    {
     "name": "stdout",
     "output_type": "stream",
     "text": [
      "(3576, 2)\n"
     ]
    }
   ],
   "source": [
    "print((item_factors.count(), len(item_factors.columns)))"
   ]
  },
  {
   "cell_type": "code",
   "execution_count": 56,
   "metadata": {},
   "outputs": [],
   "source": [
    "user_1570_row = user_factors[user_factors['id'] == 1570].first()"
   ]
  },
  {
   "cell_type": "code",
   "execution_count": 57,
   "metadata": {},
   "outputs": [
    {
     "data": {
      "text/plain": [
       "Row(id=1570, features=[-0.09824271500110626, -1.124036431312561, 1.4023230075836182, 1.017096757888794, 0.3638903796672821, 0.004380527418106794, -0.9986612200737, -0.5456803441047668, 0.3612426221370697, 0.7719910740852356])"
      ]
     },
     "execution_count": 57,
     "metadata": {},
     "output_type": "execute_result"
    }
   ],
   "source": [
    "# note - Alex and I got significantly different values for the below\n",
    "user_1570_row"
   ]
  },
  {
   "cell_type": "code",
   "execution_count": 58,
   "metadata": {},
   "outputs": [],
   "source": [
    "user_1570_factors = np.array(user_1570_row['features'])"
   ]
  },
  {
   "cell_type": "code",
   "execution_count": 59,
   "metadata": {},
   "outputs": [
    {
     "data": {
      "text/plain": [
       "array([-0.09824272, -1.12403643,  1.40232301,  1.01709676,  0.36389038,\n",
       "        0.00438053, -0.99866122, -0.54568034,  0.36124262,  0.77199107])"
      ]
     },
     "execution_count": 59,
     "metadata": {},
     "output_type": "execute_result"
    }
   ],
   "source": [
    "user_1570_factors"
   ]
  },
  {
   "cell_type": "code",
   "execution_count": 60,
   "metadata": {},
   "outputs": [],
   "source": [
    "toy_story_row = item_factors[item_factors['id'] == 1].first()\n",
    "toy_story_factors = np.array(toy_story_row['features'])"
   ]
  },
  {
   "cell_type": "code",
   "execution_count": 61,
   "metadata": {},
   "outputs": [
    {
     "data": {
      "text/plain": [
       "Row(id=1, features=[0.08965704590082169, -1.0805866718292236, 0.42876312136650085, 0.531302809715271, -0.11097260564565659, -0.5822567939758301, -1.01619553565979, -0.4469119608402252, 0.4968760907649994, 0.15137770771980286])"
      ]
     },
     "execution_count": 61,
     "metadata": {},
     "output_type": "execute_result"
    }
   ],
   "source": [
    "toy_story_row"
   ]
  },
  {
   "cell_type": "code",
   "execution_count": 62,
   "metadata": {},
   "outputs": [
    {
     "data": {
      "text/plain": [
       "array([ 0.08965705, -1.08058667,  0.42876312,  0.53130281, -0.11097261,\n",
       "       -0.58225679, -1.01619554, -0.44691196,  0.49687609,  0.15137771])"
      ]
     },
     "execution_count": 62,
     "metadata": {},
     "output_type": "execute_result"
    }
   ],
   "source": [
    "toy_story_factors"
   ]
  },
  {
   "cell_type": "code",
   "execution_count": 63,
   "metadata": {},
   "outputs": [
    {
     "data": {
      "text/plain": [
       "array([-0.09824272, -1.12403643,  1.40232301,  1.01709676,  0.36389038,\n",
       "        0.00438053, -0.99866122, -0.54568034,  0.36124262,  0.77199107])"
      ]
     },
     "execution_count": 63,
     "metadata": {},
     "output_type": "execute_result"
    }
   ],
   "source": [
    "user_1570_factors"
   ]
  },
  {
   "cell_type": "code",
   "execution_count": 64,
   "metadata": {},
   "outputs": [
    {
     "ename": "NameError",
     "evalue": "name 'm_factors' is not defined",
     "output_type": "error",
     "traceback": [
      "\u001b[0;31m---------------------------------------------------------------------------\u001b[0m",
      "\u001b[0;31mNameError\u001b[0m                                 Traceback (most recent call last)",
      "\u001b[0;32m<ipython-input-64-e029c608c8d4>\u001b[0m in \u001b[0;36m<module>\u001b[0;34m()\u001b[0m\n\u001b[0;32m----> 1\u001b[0;31m \u001b[0mm_factors\u001b[0m\u001b[0;34m\u001b[0m\u001b[0;34m\u001b[0m\u001b[0m\n\u001b[0m",
      "\u001b[0;31mNameError\u001b[0m: name 'm_factors' is not defined"
     ]
    }
   ],
   "source": [
    "m_factors"
   ]
  },
  {
   "cell_type": "code",
   "execution_count": null,
   "metadata": {},
   "outputs": [],
   "source": [
    "user_1570_factors @ toy_story_factors"
   ]
  },
  {
   "cell_type": "code",
   "execution_count": null,
   "metadata": {},
   "outputs": [],
   "source": [
    "# predictions.sort(predictions.timestamp.asc()).show(10)"
   ]
  },
  {
   "cell_type": "code",
   "execution_count": null,
   "metadata": {},
   "outputs": [],
   "source": [
    "# ratings.where(col('rating').isNull())"
   ]
  },
  {
   "cell_type": "code",
   "execution_count": null,
   "metadata": {},
   "outputs": [],
   "source": [
    "user_1570_preds = predictions[predictions['user_id'] == 1570]"
   ]
  },
  {
   "cell_type": "code",
   "execution_count": null,
   "metadata": {},
   "outputs": [],
   "source": [
    "user_1570_preds.sort('movie_id').show()"
   ]
  },
  {
   "cell_type": "code",
   "execution_count": null,
   "metadata": {},
   "outputs": [],
   "source": [
    "# produces \n",
    "recs = als_model.recommendForAllUsers(numItems=10)\n",
    "recs.persist()"
   ]
  },
  {
   "cell_type": "code",
   "execution_count": null,
   "metadata": {},
   "outputs": [],
   "source": [
    "# returns list of lists\n",
    "recs.sort(recs.user_id.asc()).show()"
   ]
  },
  {
   "cell_type": "code",
   "execution_count": null,
   "metadata": {},
   "outputs": [],
   "source": [
    "# normalized or standard_scalar, row-wise, normalize per movie"
   ]
  },
  {
   "cell_type": "code",
   "execution_count": null,
   "metadata": {},
   "outputs": [],
   "source": [
    "recs[recs['userId']==10].first()['recommendations']"
   ]
  },
  {
   "cell_type": "code",
   "execution_count": null,
   "metadata": {},
   "outputs": [],
   "source": [
    "# !grep 3086 < data/movies.csv"
   ]
  },
  {
   "cell_type": "code",
   "execution_count": null,
   "metadata": {},
   "outputs": [],
   "source": [
    "preds_requests = als_model.transform(requests)"
   ]
  },
  {
   "cell_type": "code",
   "execution_count": null,
   "metadata": {},
   "outputs": [],
   "source": [
    "preds_requests.persist()"
   ]
  },
  {
   "cell_type": "code",
   "execution_count": null,
   "metadata": {},
   "outputs": [],
   "source": [
    "preds_requests.sort(preds_requests.timestamp.asc()).show(10)"
   ]
  },
  {
   "cell_type": "code",
   "execution_count": null,
   "metadata": {},
   "outputs": [],
   "source": [
    "print((preds_requests.count(), len(preds_requests.columns)))"
   ]
  },
  {
   "cell_type": "code",
   "execution_count": null,
   "metadata": {},
   "outputs": [],
   "source": []
  },
  {
   "cell_type": "code",
   "execution_count": null,
   "metadata": {},
   "outputs": [],
   "source": []
  },
  {
   "cell_type": "code",
   "execution_count": null,
   "metadata": {},
   "outputs": [],
   "source": []
  }
 ],
 "metadata": {
  "kernelspec": {
   "display_name": "learn-env",
   "language": "python",
   "name": "learn-env"
  },
  "language_info": {
   "codemirror_mode": {
    "name": "ipython",
    "version": 3
   },
   "file_extension": ".py",
   "mimetype": "text/x-python",
   "name": "python",
   "nbconvert_exporter": "python",
   "pygments_lexer": "ipython3",
   "version": "3.7.3"
  }
 },
 "nbformat": 4,
 "nbformat_minor": 2
}
