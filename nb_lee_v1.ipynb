{
 "cells": [
  {
   "cell_type": "code",
   "execution_count": 1,
   "metadata": {},
   "outputs": [],
   "source": [
    "import pyspark\n",
    "import numpy as np\n",
    "from pyspark.ml.recommendation import ALS, ALSModel\n",
    "from pyspark.sql import functions, types\n",
    "from pyspark.ml.evaluation import RegressionEvaluator"
   ]
  },
  {
   "cell_type": "code",
   "execution_count": 2,
   "metadata": {},
   "outputs": [],
   "source": [
    "spark = (pyspark.sql.SparkSession.builder \n",
    "  .master(\"local[*]\")\n",
    "  .getOrCreate())"
   ]
  },
  {
   "cell_type": "code",
   "execution_count": 152,
   "metadata": {},
   "outputs": [],
   "source": [
    "path_users = 'data/users.dat'\n",
    "users = (spark.read.load(\"data/users.dat\",\n",
    "                         format=\"csv\", sep=\":\", inferSchema=\"true\")\n",
    "                        .drop('_c1', '_c3', '_c5', '_c7'))"
   ]
  },
  {
   "cell_type": "code",
   "execution_count": 153,
   "metadata": {},
   "outputs": [],
   "source": [
    "users = (users.withColumnRenamed(users.schema.names[0], 'userID')\n",
    "                        .withColumnRenamed(users.schema.names[1], 'gender')\n",
    "                        .withColumnRenamed(users.schema.names[2], 'age')\n",
    "                        .withColumnRenamed(users.schema.names[3], 'occupation')\n",
    "                        .withColumnRenamed(users.schema.names[4], 'zip'))"
   ]
  },
  {
   "cell_type": "code",
   "execution_count": 154,
   "metadata": {},
   "outputs": [
    {
     "data": {
      "text/plain": [
       "['userID', 'gender', 'age', 'occupation', 'zip']"
      ]
     },
     "execution_count": 154,
     "metadata": {},
     "output_type": "execute_result"
    }
   ],
   "source": [
    "users.schema.names"
   ]
  },
  {
   "cell_type": "code",
   "execution_count": 155,
   "metadata": {},
   "outputs": [
    {
     "name": "stdout",
     "output_type": "stream",
     "text": [
      "(6040, 5)\n"
     ]
    }
   ],
   "source": [
    "print((users.count(), len(users.columns)))"
   ]
  },
  {
   "cell_type": "code",
   "execution_count": 156,
   "metadata": {},
   "outputs": [
    {
     "name": "stdout",
     "output_type": "stream",
     "text": [
      "+------+------+---+----------+-----+\n",
      "|userID|gender|age|occupation|  zip|\n",
      "+------+------+---+----------+-----+\n",
      "|     1|     F|  1|        10|48067|\n",
      "|     2|     M| 56|        16|70072|\n",
      "|     3|     M| 25|        15|55117|\n",
      "|     4|     M| 45|         7|02460|\n",
      "|     5|     M| 25|        20|55455|\n",
      "+------+------+---+----------+-----+\n",
      "only showing top 5 rows\n",
      "\n"
     ]
    }
   ],
   "source": [
    "users.show(5)"
   ]
  },
  {
   "cell_type": "code",
   "execution_count": 157,
   "metadata": {},
   "outputs": [],
   "source": [
    "# read in the dataset into pyspark DataFrame\n",
    "path_ratings = 'data/ratings.json'\n",
    "ratings = spark.read.json(path_ratings)"
   ]
  },
  {
   "cell_type": "code",
   "execution_count": 158,
   "metadata": {},
   "outputs": [
    {
     "name": "stdout",
     "output_type": "stream",
     "text": [
      "+--------+------+------------+-------+\n",
      "|movie_id|rating|   timestamp|user_id|\n",
      "+--------+------+------------+-------+\n",
      "|     858|     4|9.56678732E8|   6040|\n",
      "|    2384|     4|9.56678754E8|   6040|\n",
      "|     593|     5|9.56678754E8|   6040|\n",
      "|    1961|     4|9.56678777E8|   6040|\n",
      "|    1419|     3|9.56678856E8|   6040|\n",
      "+--------+------+------------+-------+\n",
      "only showing top 5 rows\n",
      "\n"
     ]
    }
   ],
   "source": [
    "ratings.show(5)"
   ]
  },
  {
   "cell_type": "code",
   "execution_count": 159,
   "metadata": {},
   "outputs": [
    {
     "name": "stdout",
     "output_type": "stream",
     "text": [
      "(719949, 4)\n"
     ]
    }
   ],
   "source": [
    "print((ratings.count(), len(ratings.columns)))"
   ]
  },
  {
   "cell_type": "code",
   "execution_count": 160,
   "metadata": {},
   "outputs": [
    {
     "data": {
      "text/plain": [
       "['movie_id', 'rating', 'timestamp', 'user_id']"
      ]
     },
     "execution_count": 160,
     "metadata": {},
     "output_type": "execute_result"
    }
   ],
   "source": [
    "ratings.schema.names"
   ]
  },
  {
   "cell_type": "code",
   "execution_count": 161,
   "metadata": {},
   "outputs": [
    {
     "name": "stdout",
     "output_type": "stream",
     "text": [
      "root\n",
      " |-- movie_id: long (nullable = true)\n",
      " |-- rating: long (nullable = true)\n",
      " |-- timestamp: double (nullable = true)\n",
      " |-- user_id: long (nullable = true)\n",
      "\n"
     ]
    }
   ],
   "source": [
    "ratings.printSchema()"
   ]
  },
  {
   "cell_type": "code",
   "execution_count": 162,
   "metadata": {},
   "outputs": [
    {
     "name": "stdout",
     "output_type": "stream",
     "text": [
      "+--------+------+------------+-------+\n",
      "|movie_id|rating|   timestamp|user_id|\n",
      "+--------+------+------------+-------+\n",
      "|     858|     4|9.56678732E8|   6040|\n",
      "|    2384|     4|9.56678754E8|   6040|\n",
      "|     593|     5|9.56678754E8|   6040|\n",
      "|    1961|     4|9.56678777E8|   6040|\n",
      "|    1419|     3|9.56678856E8|   6040|\n",
      "+--------+------+------------+-------+\n",
      "only showing top 5 rows\n",
      "\n"
     ]
    }
   ],
   "source": [
    "ratings.show(5)"
   ]
  },
  {
   "cell_type": "code",
   "execution_count": 163,
   "metadata": {},
   "outputs": [
    {
     "data": {
      "text/plain": [
       "DataFrame[movie_id: bigint, rating: bigint, timestamp: double, user_id: bigint]"
      ]
     },
     "execution_count": 163,
     "metadata": {},
     "output_type": "execute_result"
    }
   ],
   "source": [
    "ratings.persist()"
   ]
  },
  {
   "cell_type": "markdown",
   "metadata": {},
   "source": [
    "#### inspect requests dataset"
   ]
  },
  {
   "cell_type": "code",
   "execution_count": 240,
   "metadata": {},
   "outputs": [
    {
     "data": {
      "text/plain": [
       "DataFrame[movie_id: bigint, rating: double, timestamp: double, user_id: bigint]"
      ]
     },
     "execution_count": 240,
     "metadata": {},
     "output_type": "execute_result"
    }
   ],
   "source": [
    "requests = spark.read.json('data/requests.json')\n",
    "requests.persist()"
   ]
  },
  {
   "cell_type": "code",
   "execution_count": 241,
   "metadata": {},
   "outputs": [
    {
     "name": "stdout",
     "output_type": "stream",
     "text": [
      "root\n",
      " |-- movie_id: long (nullable = true)\n",
      " |-- rating: double (nullable = true)\n",
      " |-- timestamp: double (nullable = true)\n",
      " |-- user_id: long (nullable = true)\n",
      "\n"
     ]
    }
   ],
   "source": [
    "requests.printSchema()"
   ]
  },
  {
   "cell_type": "code",
   "execution_count": 242,
   "metadata": {},
   "outputs": [
    {
     "name": "stdout",
     "output_type": "stream",
     "text": [
      "+--------+------+------------+-------+\n",
      "|movie_id|rating|   timestamp|user_id|\n",
      "+--------+------+------------+-------+\n",
      "|    2019|   NaN|9.56678777E8|   6040|\n",
      "|     759|   NaN|9.56679248E8|   6040|\n",
      "|    2858|   NaN|9.56679275E8|   6040|\n",
      "|     246|   NaN|9.56679413E8|   6040|\n",
      "|    1617|   NaN|9.56679473E8|   6040|\n",
      "+--------+------+------------+-------+\n",
      "only showing top 5 rows\n",
      "\n"
     ]
    }
   ],
   "source": [
    "requests.show(5)"
   ]
  },
  {
   "cell_type": "code",
   "execution_count": 258,
   "metadata": {},
   "outputs": [
    {
     "name": "stdout",
     "output_type": "stream",
     "text": [
      "(280260, 4)\n"
     ]
    }
   ],
   "source": [
    "print((requests.count(), len(requests.columns)))"
   ]
  },
  {
   "cell_type": "markdown",
   "metadata": {},
   "source": [
    "#### inspect users dataset"
   ]
  },
  {
   "cell_type": "code",
   "execution_count": 167,
   "metadata": {},
   "outputs": [
    {
     "ename": "NameError",
     "evalue": "name 'StructType' is not defined",
     "output_type": "error",
     "traceback": [
      "\u001b[0;31m---------------------------------------------------------------------------\u001b[0m",
      "\u001b[0;31mNameError\u001b[0m                                 Traceback (most recent call last)",
      "\u001b[0;32m<ipython-input-167-0cdeff746c68>\u001b[0m in \u001b[0;36m<module>\u001b[0;34m()\u001b[0m\n\u001b[0;32m----> 1\u001b[0;31m schema_users = StructType(\n\u001b[0m\u001b[1;32m      2\u001b[0m     [\n\u001b[1;32m      3\u001b[0m         \u001b[0mStructField\u001b[0m\u001b[0;34m(\u001b[0m\u001b[0;34m'userId'\u001b[0m\u001b[0;34m,\u001b[0m \u001b[0mIntegerType\u001b[0m\u001b[0;34m(\u001b[0m\u001b[0;34m)\u001b[0m\u001b[0;34m)\u001b[0m\u001b[0;34m,\u001b[0m\u001b[0;34m\u001b[0m\u001b[0m\n\u001b[1;32m      4\u001b[0m         \u001b[0mStructField\u001b[0m\u001b[0;34m(\u001b[0m\u001b[0;34m'gender'\u001b[0m\u001b[0;34m,\u001b[0m \u001b[0mIntegerType\u001b[0m\u001b[0;34m(\u001b[0m\u001b[0;34m)\u001b[0m\u001b[0;34m)\u001b[0m\u001b[0;34m,\u001b[0m\u001b[0;34m\u001b[0m\u001b[0m\n\u001b[1;32m      5\u001b[0m         \u001b[0mStructField\u001b[0m\u001b[0;34m(\u001b[0m\u001b[0;34m'age'\u001b[0m\u001b[0;34m,\u001b[0m \u001b[0mFloatType\u001b[0m\u001b[0;34m(\u001b[0m\u001b[0;34m)\u001b[0m\u001b[0;34m)\u001b[0m\u001b[0;34m,\u001b[0m\u001b[0;34m\u001b[0m\u001b[0m\n",
      "\u001b[0;31mNameError\u001b[0m: name 'StructType' is not defined"
     ]
    }
   ],
   "source": [
    "schema_users = StructType(\n",
    "    [\n",
    "        StructField('userId', IntegerType()),\n",
    "        StructField('gender', IntegerType()),\n",
    "        StructField('age', FloatType()),\n",
    "        StructField('occupation', LongType()),\n",
    "        StructField('zip', StringType())\n",
    "        \n",
    "    ]\n",
    ")"
   ]
  },
  {
   "cell_type": "markdown",
   "metadata": {},
   "source": [
    "### Model"
   ]
  },
  {
   "cell_type": "code",
   "execution_count": 168,
   "metadata": {},
   "outputs": [],
   "source": [
    "# convert format of datetime column 'timestamp' from epoch to standard \n",
    "ratings = (ratings.withColumn('timestamp',\n",
    "                    functions.date_format(ratings.timestamp.cast(dataType=types.TimestampType()),\n",
    "                    \"yyyy-MM-dd HH:mm:ss\")))"
   ]
  },
  {
   "cell_type": "code",
   "execution_count": 169,
   "metadata": {},
   "outputs": [
    {
     "data": {
      "text/plain": [
       "DataFrame[movie_id: bigint, rating: bigint, timestamp: string, user_id: bigint]"
      ]
     },
     "execution_count": 169,
     "metadata": {},
     "output_type": "execute_result"
    }
   ],
   "source": [
    "ratings.persist()"
   ]
  },
  {
   "cell_type": "code",
   "execution_count": 170,
   "metadata": {},
   "outputs": [
    {
     "name": "stdout",
     "output_type": "stream",
     "text": [
      "+--------+------+-------------------+-------+\n",
      "|movie_id|rating|          timestamp|user_id|\n",
      "+--------+------+-------------------+-------+\n",
      "|     858|     4|2000-04-25 09:05:32|   6040|\n",
      "|    2384|     4|2000-04-25 09:05:54|   6040|\n",
      "|     593|     5|2000-04-25 09:05:54|   6040|\n",
      "|    1961|     4|2000-04-25 09:06:17|   6040|\n",
      "|    1419|     3|2000-04-25 09:07:36|   6040|\n",
      "+--------+------+-------------------+-------+\n",
      "only showing top 5 rows\n",
      "\n"
     ]
    }
   ],
   "source": [
    "ratings.show(5)"
   ]
  },
  {
   "cell_type": "code",
   "execution_count": 171,
   "metadata": {},
   "outputs": [],
   "source": [
    "ratings = ratings.sort(ratings.timestamp.asc())"
   ]
  },
  {
   "cell_type": "code",
   "execution_count": 172,
   "metadata": {},
   "outputs": [
    {
     "data": {
      "text/plain": [
       "DataFrame[movie_id: bigint, rating: bigint, timestamp: string, user_id: bigint]"
      ]
     },
     "execution_count": 172,
     "metadata": {},
     "output_type": "execute_result"
    }
   ],
   "source": [
    "ratings.persist()"
   ]
  },
  {
   "cell_type": "code",
   "execution_count": 173,
   "metadata": {},
   "outputs": [
    {
     "name": "stdout",
     "output_type": "stream",
     "text": [
      "+--------+------+-------------------+-------+\n",
      "|movie_id|rating|          timestamp|user_id|\n",
      "+--------+------+-------------------+-------+\n",
      "|     858|     4|2000-04-25 09:05:32|   6040|\n",
      "|    2384|     4|2000-04-25 09:05:54|   6040|\n",
      "|     593|     5|2000-04-25 09:05:54|   6040|\n",
      "|    1961|     4|2000-04-25 09:06:17|   6040|\n",
      "|    1419|     3|2000-04-25 09:07:36|   6040|\n",
      "+--------+------+-------------------+-------+\n",
      "only showing top 5 rows\n",
      "\n"
     ]
    }
   ],
   "source": [
    "ratings.show(5)"
   ]
  },
  {
   "cell_type": "code",
   "execution_count": 174,
   "metadata": {},
   "outputs": [
    {
     "name": "stdout",
     "output_type": "stream",
     "text": [
      "(719949, 5)\n"
     ]
    }
   ],
   "source": [
    "print((ratings.count(), len(users.columns)))"
   ]
  },
  {
   "cell_type": "code",
   "execution_count": 175,
   "metadata": {},
   "outputs": [
    {
     "data": {
      "text/plain": [
       "575959.2000000001"
      ]
     },
     "execution_count": 175,
     "metadata": {},
     "output_type": "execute_result"
    }
   ],
   "source": [
    "719949*.8"
   ]
  },
  {
   "cell_type": "code",
   "execution_count": 176,
   "metadata": {},
   "outputs": [
    {
     "data": {
      "text/plain": [
       "143989.80000000002"
      ]
     },
     "execution_count": 176,
     "metadata": {},
     "output_type": "execute_result"
    }
   ],
   "source": [
    "719949 *.2"
   ]
  },
  {
   "cell_type": "code",
   "execution_count": 178,
   "metadata": {},
   "outputs": [],
   "source": [
    "# Sort by index and get first 4000 rows\n",
    "ratings_train = ratings.sort(ratings.timestamp.asc()).limit(575959)"
   ]
  },
  {
   "cell_type": "code",
   "execution_count": 179,
   "metadata": {},
   "outputs": [
    {
     "data": {
      "text/plain": [
       "DataFrame[movie_id: bigint, rating: bigint, timestamp: string, user_id: bigint]"
      ]
     },
     "execution_count": 179,
     "metadata": {},
     "output_type": "execute_result"
    }
   ],
   "source": [
    "ratings_train.persist()"
   ]
  },
  {
   "cell_type": "code",
   "execution_count": 180,
   "metadata": {},
   "outputs": [
    {
     "name": "stdout",
     "output_type": "stream",
     "text": [
      "+--------+------+-------------------+-------+\n",
      "|movie_id|rating|          timestamp|user_id|\n",
      "+--------+------+-------------------+-------+\n",
      "|     858|     4|2000-04-25 09:05:32|   6040|\n",
      "|    2384|     4|2000-04-25 09:05:54|   6040|\n",
      "|     593|     5|2000-04-25 09:05:54|   6040|\n",
      "|    1961|     4|2000-04-25 09:06:17|   6040|\n",
      "|    1419|     3|2000-04-25 09:07:36|   6040|\n",
      "+--------+------+-------------------+-------+\n",
      "only showing top 5 rows\n",
      "\n"
     ]
    }
   ],
   "source": [
    "ratings_train.show(5)"
   ]
  },
  {
   "cell_type": "code",
   "execution_count": 181,
   "metadata": {},
   "outputs": [
    {
     "name": "stdout",
     "output_type": "stream",
     "text": [
      "(575959, 4)\n"
     ]
    }
   ],
   "source": [
    "print((ratings_train.count(), len(ratings_train.columns)))"
   ]
  },
  {
   "cell_type": "code",
   "execution_count": 182,
   "metadata": {},
   "outputs": [],
   "source": [
    "ratings_test = ratings.subtract(ratings_train)"
   ]
  },
  {
   "cell_type": "code",
   "execution_count": 184,
   "metadata": {},
   "outputs": [
    {
     "data": {
      "text/plain": [
       "DataFrame[movie_id: bigint, rating: bigint, timestamp: string, user_id: bigint]"
      ]
     },
     "execution_count": 184,
     "metadata": {},
     "output_type": "execute_result"
    }
   ],
   "source": [
    "ratings_test.persist()"
   ]
  },
  {
   "cell_type": "code",
   "execution_count": 185,
   "metadata": {},
   "outputs": [
    {
     "name": "stdout",
     "output_type": "stream",
     "text": [
      "(143990, 4)\n"
     ]
    }
   ],
   "source": [
    "print((ratings_test.count(), len(ratings_test.columns)))"
   ]
  },
  {
   "cell_type": "code",
   "execution_count": 32,
   "metadata": {},
   "outputs": [],
   "source": [
    "als = ALS(\n",
    "    rank=10,\n",
    "    maxIter=10,\n",
    "    userCol='user_id',\n",
    "    itemCol='movie_id',\n",
    "    ratingCol='rating',\n",
    ")"
   ]
  },
  {
   "cell_type": "code",
   "execution_count": 186,
   "metadata": {},
   "outputs": [],
   "source": [
    "# Build the recommendation model using ALS on the training data\n",
    "# Note we set cold start strategy to 'drop' to ensure we don't get NaN evaluation metrics\n",
    "\n",
    "# fit the ALS model to the training set\n",
    "\n",
    "als_model = als.fit(ratings_train)"
   ]
  },
  {
   "cell_type": "code",
   "execution_count": null,
   "metadata": {},
   "outputs": [],
   "source": []
  },
  {
   "cell_type": "code",
   "execution_count": 191,
   "metadata": {},
   "outputs": [
    {
     "data": {
      "text/plain": [
       "DataFrame[movie_id: bigint, rating: bigint, timestamp: string, user_id: bigint, prediction: float]"
      ]
     },
     "execution_count": 191,
     "metadata": {},
     "output_type": "execute_result"
    }
   ],
   "source": [
    "# evaluate it to determine just how well it performed.\n",
    "# generate predictions with your model for the test set by using the transform method on your ALS model\n",
    "# evaluate your model and print out the RMSE from your test set\n",
    "# ALSModel.transform?\n",
    "predictions = als_model.transform(ratings_train)\n",
    "predictions.persist()"
   ]
  },
  {
   "cell_type": "code",
   "execution_count": 197,
   "metadata": {},
   "outputs": [
    {
     "name": "stdout",
     "output_type": "stream",
     "text": [
      "+--------+------+-------------------+-------+\n",
      "|movie_id|rating|          timestamp|user_id|\n",
      "+--------+------+-------------------+-------+\n",
      "|     858|     4|2000-04-25 09:05:32|   6040|\n",
      "|     593|     5|2000-04-25 09:05:54|   6040|\n",
      "|    2384|     4|2000-04-25 09:05:54|   6040|\n",
      "|    1961|     4|2000-04-25 09:06:17|   6040|\n",
      "|     213|     5|2000-04-25 09:07:36|   6040|\n",
      "|    3505|     4|2000-04-25 09:07:36|   6040|\n",
      "|    1419|     3|2000-04-25 09:07:36|   6040|\n",
      "|    3111|     5|2000-04-25 09:07:36|   6040|\n",
      "|     573|     4|2000-04-25 09:07:36|   6040|\n",
      "|    1734|     2|2000-04-25 09:08:01|   6040|\n",
      "+--------+------+-------------------+-------+\n",
      "only showing top 10 rows\n",
      "\n"
     ]
    }
   ],
   "source": [
    "ratings_train.sort(ratings_train.timestamp.asc()).show(10)"
   ]
  },
  {
   "cell_type": "code",
   "execution_count": 198,
   "metadata": {},
   "outputs": [
    {
     "name": "stdout",
     "output_type": "stream",
     "text": [
      "+--------+------+-------------------+-------+----------+\n",
      "|movie_id|rating|          timestamp|user_id|prediction|\n",
      "+--------+------+-------------------+-------+----------+\n",
      "|     858|     4|2000-04-25 09:05:32|   6040| 4.1999373|\n",
      "|    2384|     4|2000-04-25 09:05:54|   6040| 3.2600207|\n",
      "|     593|     5|2000-04-25 09:05:54|   6040| 3.7471366|\n",
      "|    1961|     4|2000-04-25 09:06:17|   6040| 3.2740462|\n",
      "|     573|     4|2000-04-25 09:07:36|   6040| 3.0070095|\n",
      "|    3111|     5|2000-04-25 09:07:36|   6040|   3.25006|\n",
      "|    3505|     4|2000-04-25 09:07:36|   6040|  3.256259|\n",
      "|     213|     5|2000-04-25 09:07:36|   6040| 3.8371167|\n",
      "|    1419|     3|2000-04-25 09:07:36|   6040| 3.3362842|\n",
      "|    1734|     2|2000-04-25 09:08:01|   6040| 3.2702577|\n",
      "+--------+------+-------------------+-------+----------+\n",
      "only showing top 10 rows\n",
      "\n"
     ]
    }
   ],
   "source": [
    "predictions.sort(predictions.timestamp.asc()).show(10)"
   ]
  },
  {
   "cell_type": "code",
   "execution_count": 199,
   "metadata": {},
   "outputs": [],
   "source": [
    "user_factors = als_model.userFactors"
   ]
  },
  {
   "cell_type": "code",
   "execution_count": 238,
   "metadata": {},
   "outputs": [
    {
     "name": "stdout",
     "output_type": "stream",
     "text": [
      "+----+--------------------+\n",
      "|  id|            features|\n",
      "+----+--------------------+\n",
      "|1570|[-0.0035724486, 0...|\n",
      "|1571|[0.26768214, 0.55...|\n",
      "|1572|[-0.01236396, 0.0...|\n",
      "|1573|[-0.030469889, 0....|\n",
      "|1574|[1.0296766, 1.317...|\n",
      "|1575|[0.61713946, 0.69...|\n",
      "|1576|[-0.4837431, 1.35...|\n",
      "|1577|[0.646382, 0.5142...|\n",
      "|1578|[-0.26934254, 0.4...|\n",
      "|1579|[0.055627476, 0.1...|\n",
      "+----+--------------------+\n",
      "only showing top 10 rows\n",
      "\n"
     ]
    }
   ],
   "source": [
    "user_factors.sort(user_factors.id.asc()).show(10)"
   ]
  },
  {
   "cell_type": "code",
   "execution_count": 200,
   "metadata": {},
   "outputs": [
    {
     "name": "stdout",
     "output_type": "stream",
     "text": [
      "+----+--------------------+\n",
      "|  id|            features|\n",
      "+----+--------------------+\n",
      "|1570|[-0.0035724486, 0...|\n",
      "|1580|[0.37693256, 0.41...|\n",
      "|1590|[-0.2613688, -0.0...|\n",
      "|1600|[0.06716574, 0.60...|\n",
      "|1610|[0.19097896, 0.25...|\n",
      "|1620|[-0.011128309, -0...|\n",
      "|1630|[0.022146514, 0.3...|\n",
      "|1640|[-0.009884676, 0....|\n",
      "|1650|[-0.011244012, 0....|\n",
      "|1660|[0.15514812, 0.29...|\n",
      "+----+--------------------+\n",
      "only showing top 10 rows\n",
      "\n"
     ]
    }
   ],
   "source": [
    "user_factors.show(10)"
   ]
  },
  {
   "cell_type": "code",
   "execution_count": 201,
   "metadata": {},
   "outputs": [
    {
     "name": "stdout",
     "output_type": "stream",
     "text": [
      "(4464, 2)\n"
     ]
    }
   ],
   "source": [
    "print((user_factors.count(), len(user_factors.columns)))"
   ]
  },
  {
   "cell_type": "code",
   "execution_count": 204,
   "metadata": {},
   "outputs": [],
   "source": [
    "item_factors = als_model.itemFactors"
   ]
  },
  {
   "cell_type": "code",
   "execution_count": 207,
   "metadata": {},
   "outputs": [
    {
     "name": "stdout",
     "output_type": "stream",
     "text": [
      "+---+--------------------+\n",
      "| id|            features|\n",
      "+---+--------------------+\n",
      "| 10|[0.20901716, 0.16...|\n",
      "| 20|[0.21886238, 0.16...|\n",
      "| 30|[0.027615188, -0....|\n",
      "| 40|[0.2723992, 0.165...|\n",
      "| 50|[-0.2152021, 0.11...|\n",
      "| 60|[0.36570826, 0.40...|\n",
      "| 70|[0.4447271, 0.079...|\n",
      "| 80|[0.2608477, -0.15...|\n",
      "| 90|[0.16204856, 0.35...|\n",
      "|100|[0.32400677, 0.00...|\n",
      "+---+--------------------+\n",
      "only showing top 10 rows\n",
      "\n"
     ]
    }
   ],
   "source": [
    "item_factors.show(10)"
   ]
  },
  {
   "cell_type": "code",
   "execution_count": 205,
   "metadata": {},
   "outputs": [
    {
     "name": "stdout",
     "output_type": "stream",
     "text": [
      "(3576, 2)\n"
     ]
    }
   ],
   "source": [
    "print((item_factors.count(), len(item_factors.columns)))"
   ]
  },
  {
   "cell_type": "code",
   "execution_count": 208,
   "metadata": {},
   "outputs": [],
   "source": [
    "user_1570_row = user_factors[user_factors['id'] == 1570].first()"
   ]
  },
  {
   "cell_type": "code",
   "execution_count": 212,
   "metadata": {},
   "outputs": [
    {
     "data": {
      "text/plain": [
       "Row(id=1570, features=[-0.0035724486224353313, 0.02424660138785839, -1.0096547603607178, 0.5916305184364319, -0.9070777893066406, 0.9394926428794861, -0.7845749258995056, 1.0537766218185425, 1.216884732246399, -0.23996910452842712])"
      ]
     },
     "execution_count": 212,
     "metadata": {},
     "output_type": "execute_result"
    }
   ],
   "source": [
    "# note - Alex and I got significantly different values for the below\n",
    "user_1570_row"
   ]
  },
  {
   "cell_type": "code",
   "execution_count": 213,
   "metadata": {},
   "outputs": [],
   "source": [
    "user_1570_factors = np.array(user_1570_row['features'])"
   ]
  },
  {
   "cell_type": "code",
   "execution_count": 214,
   "metadata": {},
   "outputs": [
    {
     "data": {
      "text/plain": [
       "array([-0.00357245,  0.0242466 , -1.00965476,  0.59163052, -0.90707779,\n",
       "        0.93949264, -0.78457493,  1.05377662,  1.21688473, -0.2399691 ])"
      ]
     },
     "execution_count": 214,
     "metadata": {},
     "output_type": "execute_result"
    }
   ],
   "source": [
    "user_1570_factors"
   ]
  },
  {
   "cell_type": "code",
   "execution_count": 216,
   "metadata": {},
   "outputs": [],
   "source": [
    "toy_story_row = item_factors[item_factors['id'] == 1].first()\n",
    "toy_story_factors = np.array(toy_story_row['features'])"
   ]
  },
  {
   "cell_type": "code",
   "execution_count": 217,
   "metadata": {},
   "outputs": [
    {
     "data": {
      "text/plain": [
       "Row(id=1, features=[-0.09004126489162445, 0.5152695178985596, -1.174152135848999, -0.14338530600070953, -0.29830971360206604, 0.4855971932411194, -0.33697500824928284, 0.39033833146095276, 1.0716793537139893, 0.02579941414296627])"
      ]
     },
     "execution_count": 217,
     "metadata": {},
     "output_type": "execute_result"
    }
   ],
   "source": [
    "toy_story_row"
   ]
  },
  {
   "cell_type": "code",
   "execution_count": 218,
   "metadata": {},
   "outputs": [
    {
     "data": {
      "text/plain": [
       "array([-0.09004126,  0.51526952, -1.17415214, -0.14338531, -0.29830971,\n",
       "        0.48559719, -0.33697501,  0.39033833,  1.07167935,  0.02579941])"
      ]
     },
     "execution_count": 218,
     "metadata": {},
     "output_type": "execute_result"
    }
   ],
   "source": [
    "toy_story_factors"
   ]
  },
  {
   "cell_type": "code",
   "execution_count": null,
   "metadata": {},
   "outputs": [],
   "source": [
    "user_1570_factors"
   ]
  },
  {
   "cell_type": "code",
   "execution_count": null,
   "metadata": {},
   "outputs": [],
   "source": [
    "m_factors"
   ]
  },
  {
   "cell_type": "code",
   "execution_count": 219,
   "metadata": {},
   "outputs": [
    {
     "data": {
      "text/plain": [
       "3.813908210327995"
      ]
     },
     "execution_count": 219,
     "metadata": {},
     "output_type": "execute_result"
    }
   ],
   "source": [
    "user_1570_factors @ toy_story_factors"
   ]
  },
  {
   "cell_type": "code",
   "execution_count": null,
   "metadata": {},
   "outputs": [],
   "source": [
    "# predictions.sort(predictions.timestamp.asc()).show(10)"
   ]
  },
  {
   "cell_type": "code",
   "execution_count": null,
   "metadata": {},
   "outputs": [],
   "source": [
    "# ratings.where(col('rating').isNull())"
   ]
  },
  {
   "cell_type": "code",
   "execution_count": 230,
   "metadata": {},
   "outputs": [],
   "source": [
    "user_1570_preds = predictions[predictions['user_id'] == 1570]"
   ]
  },
  {
   "cell_type": "code",
   "execution_count": 231,
   "metadata": {},
   "outputs": [
    {
     "name": "stdout",
     "output_type": "stream",
     "text": [
      "+--------+------+-------------------+-------+----------+\n",
      "|movie_id|rating|          timestamp|user_id|prediction|\n",
      "+--------+------+-------------------+-------+----------+\n",
      "|     110|     3|2000-11-20 00:26:54|   1570| 3.2238398|\n",
      "|     912|     5|2000-11-20 00:27:25|   1570| 4.5510798|\n",
      "|    2473|     1|2000-11-20 00:27:25|   1570| 1.2502807|\n",
      "|    2502|     4|2000-11-20 00:26:54|   1570| 3.5724447|\n",
      "+--------+------+-------------------+-------+----------+\n",
      "\n"
     ]
    }
   ],
   "source": [
    "user_1570_preds.sort('movie_id').show()"
   ]
  },
  {
   "cell_type": "code",
   "execution_count": 232,
   "metadata": {},
   "outputs": [],
   "source": [
    "# produces \n",
    "recs = als_model.recommendForAllUsers(numItems=10)\n",
    "recs.persist()"
   ]
  },
  {
   "cell_type": "code",
   "execution_count": 239,
   "metadata": {},
   "outputs": [
    {
     "name": "stdout",
     "output_type": "stream",
     "text": [
      "+-------+--------------------+\n",
      "|user_id|     recommendations|\n",
      "+-------+--------------------+\n",
      "|   1570|[[2962, 5.3826337...|\n",
      "|   1571|[[572, 5.652255],...|\n",
      "|   1572|[[572, 4.6336207]...|\n",
      "|   1573|[[2197, 5.5041585...|\n",
      "|   1574|[[3915, 6.2564816...|\n",
      "|   1575|[[2192, 5.682795]...|\n",
      "|   1576|[[572, 5.237498],...|\n",
      "|   1577|[[2197, 5.563936]...|\n",
      "|   1578|[[3338, 5.2736936...|\n",
      "|   1579|[[572, 4.6926217]...|\n",
      "|   1580|[[2197, 4.4761944...|\n",
      "|   1582|[[2332, 5.6327896...|\n",
      "|   1583|[[3746, 5.185377]...|\n",
      "|   1584|[[751, 4.6382904]...|\n",
      "|   1585|[[3746, 4.655792]...|\n",
      "|   1586|[[572, 5.7382555]...|\n",
      "|   1587|[[572, 4.596559],...|\n",
      "|   1588|[[572, 5.2303925]...|\n",
      "|   1589|[[3338, 5.1366005...|\n",
      "|   1590|[[3338, 5.178149]...|\n",
      "+-------+--------------------+\n",
      "only showing top 20 rows\n",
      "\n"
     ]
    }
   ],
   "source": [
    "# returns list of lists\n",
    "recs.sort(recs.user_id.asc()).show()"
   ]
  },
  {
   "cell_type": "code",
   "execution_count": null,
   "metadata": {},
   "outputs": [],
   "source": [
    "# normalized or standard_scalar, row-wise, normalize per movie"
   ]
  },
  {
   "cell_type": "code",
   "execution_count": null,
   "metadata": {},
   "outputs": [],
   "source": [
    "recs[recs['userId']==10].first()['recommendations']"
   ]
  },
  {
   "cell_type": "code",
   "execution_count": null,
   "metadata": {},
   "outputs": [],
   "source": [
    "# !grep 3086 < data/movies.csv"
   ]
  },
  {
   "cell_type": "code",
   "execution_count": 249,
   "metadata": {},
   "outputs": [],
   "source": [
    "preds_requests = als_model.transform(requests)"
   ]
  },
  {
   "cell_type": "code",
   "execution_count": 250,
   "metadata": {},
   "outputs": [
    {
     "data": {
      "text/plain": [
       "DataFrame[movie_id: bigint, rating: double, timestamp: double, user_id: bigint, prediction: float]"
      ]
     },
     "execution_count": 250,
     "metadata": {},
     "output_type": "execute_result"
    }
   ],
   "source": [
    "preds_requests.persist()"
   ]
  },
  {
   "cell_type": "code",
   "execution_count": 256,
   "metadata": {},
   "outputs": [
    {
     "name": "stdout",
     "output_type": "stream",
     "text": [
      "+--------+------+------------+-------+----------+\n",
      "|movie_id|rating|   timestamp|user_id|prediction|\n",
      "+--------+------+------------+-------+----------+\n",
      "|    2019|   NaN|9.56678777E8|   6040| 4.2546625|\n",
      "|     759|   NaN|9.56679248E8|   6040|  4.025093|\n",
      "|    2858|   NaN|9.56679275E8|   6040| 3.9846306|\n",
      "|     246|   NaN|9.56679413E8|   6040| 3.9612033|\n",
      "|    1617|   NaN|9.56679473E8|   6040|  3.914388|\n",
      "|    2324|   NaN|9.56679629E8|   6040|  3.665716|\n",
      "|    1089|   NaN|9.56679796E8|   6040| 3.6774757|\n",
      "|    2804|   NaN|9.56680123E8|   6039|  3.951664|\n",
      "|     933|   NaN| 9.5668027E8|   6039| 3.9608939|\n",
      "|    1304|   NaN|9.56680308E8|   6039| 3.9800572|\n",
      "+--------+------+------------+-------+----------+\n",
      "only showing top 10 rows\n",
      "\n"
     ]
    }
   ],
   "source": [
    "preds_requests.sort(preds_requests.timestamp.asc()).show(10)"
   ]
  },
  {
   "cell_type": "code",
   "execution_count": 257,
   "metadata": {},
   "outputs": [
    {
     "name": "stdout",
     "output_type": "stream",
     "text": [
      "(280260, 5)\n"
     ]
    }
   ],
   "source": [
    "print((preds_requests.count(), len(preds_requests.columns)))"
   ]
  },
  {
   "cell_type": "code",
   "execution_count": 259,
   "metadata": {},
   "outputs": [
    {
     "ename": "AttributeError",
     "evalue": "'ALSModel' object has no attribute 'score'",
     "output_type": "error",
     "traceback": [
      "\u001b[0;31m---------------------------------------------------------------------------\u001b[0m",
      "\u001b[0;31mAttributeError\u001b[0m                            Traceback (most recent call last)",
      "\u001b[0;32m<ipython-input-259-3e554e77cf8e>\u001b[0m in \u001b[0;36m<module>\u001b[0;34m()\u001b[0m\n\u001b[0;32m----> 1\u001b[0;31m \u001b[0mals_model\u001b[0m\u001b[0;34m.\u001b[0m\u001b[0mscore\u001b[0m\u001b[0;34m(\u001b[0m\u001b[0;34m)\u001b[0m\u001b[0;34m\u001b[0m\u001b[0m\n\u001b[0m",
      "\u001b[0;31mAttributeError\u001b[0m: 'ALSModel' object has no attribute 'score'"
     ]
    }
   ],
   "source": [
    "# class pyspark.ml.evaluation.RegressionEvaluator(predictionCol='prediction', labelCol='label', metricName='rmse')d\n",
    "# Note Experimental\n",
    "# Evaluator for Regression, which expects two input columns: prediction and label.\n",
    "\n",
    "evaluator = RegressionEvaluator(predictionCol=\"raw\", metricName='rmse')\n",
    "# scoreAndLabels = [(-28.98343821, -27.0), (20.21491975, 21.5),\n",
    "#  (-25.98418959, -22.0), (30.69731842, 33.0), (74.69283752, 71.0)]\n",
    "# dataset = spark.createDataFrame(scoreAndLabels, [\"prediction\", \"rating\"])\n",
    "# \n",
    "# evaluator = RegressionEvaluator(predictionCol=\"raw\")\n",
    "# evaluator.evaluate(dataset)\n",
    "# 2.842...\n",
    "# evaluator.evaluate(dataset, {evaluator.metricName: \"r2\"})\n",
    "# 0.993...\n",
    "# evaluator.evaluate(dataset, {evaluator.metricName: \"mae\"})\n",
    "# 2.649...\n",
    "# re_path = temp_path + \"/re\"\n",
    "# evaluator.save(re_path)\n",
    "# evaluator2 = RegressionEvaluator.load(re_path)\n",
    "# str(evaluator2.getPredictionCol())\n",
    "# 'raw'"
   ]
  }
 ],
 "metadata": {
  "kernelspec": {
   "display_name": "learn-env",
   "language": "python",
   "name": "learn-env"
  },
  "language_info": {
   "codemirror_mode": {
    "name": "ipython",
    "version": 3
   },
   "file_extension": ".py",
   "mimetype": "text/x-python",
   "name": "python",
   "nbconvert_exporter": "python",
   "pygments_lexer": "ipython3",
   "version": "3.7.3"
  }
 },
 "nbformat": 4,
 "nbformat_minor": 2
}
